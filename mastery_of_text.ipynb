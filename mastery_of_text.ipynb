{
 "cells": [
  {
   "cell_type": "code",
   "execution_count": 1,
   "id": "f90bf703-aae6-4972-bdb5-a26540a28e25",
   "metadata": {},
   "outputs": [],
   "source": [
    "import urllib.request"
   ]
  },
  {
   "cell_type": "code",
   "execution_count": 3,
   "id": "0838294b-6367-46bb-b9bb-141c341e976c",
   "metadata": {},
   "outputs": [],
   "source": [
    "url = \"https://www.gutenberg.org/cache/epub/10/pg10.txt\""
   ]
  },
  {
   "cell_type": "code",
   "execution_count": 4,
   "id": "b234c0bd-aaad-49f6-b380-a83fbe22bd53",
   "metadata": {},
   "outputs": [],
   "source": [
    "with urllib.request.urlopen(url) as response:\n",
    "       pg10 = response.read().decode('utf-8')"
   ]
  },
  {
   "cell_type": "code",
   "execution_count": 7,
   "id": "f93ded9f-b6bd-4284-a535-b920c05f48a9",
   "metadata": {},
   "outputs": [
    {
     "name": "stdout",
     "output_type": "stream",
     "text": [
      "Number of Lines: 99968\n"
     ]
    }
   ],
   "source": [
    "def number_of_lines(text):\n",
    "    return text.count('\\n')\n",
    "print(\"Number of Lines: \" + str(number_of_lines(pg10)))"
   ]
  },
  {
   "cell_type": "code",
   "execution_count": 28,
   "id": "39a0f4a7-f63a-4e06-94b9-58f3556c5250",
   "metadata": {},
   "outputs": [
    {
     "name": "stdout",
     "output_type": "stream",
     "text": [
      "Number of Words: 795227\n"
     ]
    }
   ],
   "source": [
    "def number_of_words(text):\n",
    "    cleaned_text = \"\"\n",
    "\n",
    "    for word in text:\n",
    "        if word.isalpha():\n",
    "            cleaned_text += word\n",
    "        else:\n",
    "            cleaned_text += \" \"\n",
    "\n",
    "    total_words = len(cleaned_text.split())\n",
    "    return total_words\n",
    "print(\"Number of Words: \" + str(number_of_words(pg10)))"
   ]
  },
  {
   "cell_type": "code",
   "execution_count": 37,
   "id": "5f857fb5-77b1-440c-9862-470095e9800d",
   "metadata": {},
   "outputs": [
    {
     "name": "stdout",
     "output_type": "stream",
     "text": [
      "Number of \"apostle\": 47\n"
     ]
    }
   ],
   "source": [
    "def number_of_apostle(text):\n",
    "    lower_text = text.lower()\n",
    "    words = lower_text.split()\n",
    "    count = 0\n",
    "    for word in words:\n",
    "        word = word.strip(\".,!?;:()[]\\\"'\")\n",
    "        if word == \"apostle\":\n",
    "            count += 1\n",
    "    return count\n",
    "\n",
    "print('Number of \"apostle\": ' + str(number_of_apostle(pg10)))"
   ]
  },
  {
   "cell_type": "code",
   "execution_count": 25,
   "id": "cccbf45a-ce1b-490e-9818-87e10724b10e",
   "metadata": {},
   "outputs": [
    {
     "name": "stdout",
     "output_type": "stream",
     "text": [
      "Most Common Word: ﻿the\n"
     ]
    }
   ],
   "source": [
    "def most_common_word(text):\n",
    "    words_appearance = text.lower().split()\n",
    "    word_bank = {}\n",
    "    highest_count = 0\n",
    "    for word in words_appearance:\n",
    "        if word in word_bank.keys():\n",
    "            word_bank[word] = word_bank[word] + 1\n",
    "        else:\n",
    "            word_bank[word] = 1\n",
    "\n",
    "    for word in list(word_bank.keys()):\n",
    "        if word_bank[word] > highest_count:\n",
    "            most_common_word = word\n",
    "            highest_count = word_bank[word]\n",
    "            return word\n",
    "\n",
    "print('Most Common Word: ' + most_common_word(pg10))"
   ]
  },
  {
   "cell_type": "code",
   "execution_count": 38,
   "id": "339ae4a3-561d-4335-a1b8-e9e1ec65f504",
   "metadata": {},
   "outputs": [
    {
     "name": "stdout",
     "output_type": "stream",
     "text": [
      "Number of Lines: 99968\n",
      "Number of Words: 795227\n",
      "Number of \"apostle\": 47\n",
      "Most Common Word: ﻿the\n"
     ]
    }
   ],
   "source": [
    "print(\"Number of Lines: \" + str(number_of_lines(pg10)))\n",
    "print(\"Number of Words: \" + str(number_of_words(pg10)))\n",
    "print('Number of \"apostle\": ' + str(number_of_apostle(pg10)))\n",
    "print('Most Common Word: ' + most_common_word(pg10))"
   ]
  },
  {
   "cell_type": "code",
   "execution_count": null,
   "id": "dbbb5a1a-abcc-4389-b200-ac833aaf4a81",
   "metadata": {},
   "outputs": [],
   "source": []
  }
 ],
 "metadata": {
  "kernelspec": {
   "display_name": "Python [conda env:base] *",
   "language": "python",
   "name": "conda-base-py"
  },
  "language_info": {
   "codemirror_mode": {
    "name": "ipython",
    "version": 3
   },
   "file_extension": ".py",
   "mimetype": "text/x-python",
   "name": "python",
   "nbconvert_exporter": "python",
   "pygments_lexer": "ipython3",
   "version": "3.12.7"
  }
 },
 "nbformat": 4,
 "nbformat_minor": 5
}
